{
 "cells": [
  {
   "cell_type": "code",
   "execution_count": 1,
   "metadata": {},
   "outputs": [
    {
     "name": "stdout",
     "output_type": "stream",
     "text": [
      "숫자를 입력하세요\n",
      "''은 숫자가 아닙니다. 다시 입력해주세요\n",
      "숫자를 입력하세요\n",
      "'안녕'은 숫자가 아닙니다. 다시 입력해주세요\n",
      "숫자를 입력하세요\n",
      "'ㄴ이ㅏ러ㅣ낭'은 숫자가 아닙니다. 다시 입력해주세요\n",
      "숫자를 입력하세요\n",
      "컴퓨터의 숫자와 다릅니다. 다시 시도하세요\n",
      "숫자를 입력하세요\n",
      "컴퓨터의 숫자와 다릅니다. 다시 시도하세요\n",
      "숫자를 입력하세요\n",
      "컴퓨터의 숫자와 다릅니다. 다시 시도하세요\n",
      "숫자를 입력하세요\n",
      "컴퓨터의 숫자와 다릅니다. 다시 시도하세요\n",
      "숫자를 입력하세요\n",
      "컴퓨터의 숫자와 다릅니다. 다시 시도하세요\n",
      "숫자를 입력하세요\n",
      "컴퓨터의 숫자와 다릅니다. 다시 시도하세요\n",
      "숫자를 입력하세요\n",
      "컴퓨터의 숫자와 다릅니다. 다시 시도하세요\n",
      "숫자를 입력하세요\n",
      "컴퓨터의 숫자와 다릅니다. 다시 시도하세요\n",
      "숫자를 입력하세요\n",
      "컴퓨터의 숫자와 다릅니다. 다시 시도하세요\n",
      "숫자를 입력하세요\n",
      "컴퓨터의 숫자와 다릅니다. 다시 시도하세요\n",
      "숫자를 입력하세요\n"
     ]
    }
   ],
   "source": [
    "import random\n",
    "\n",
    "random_number = random.randint(1,10)\n",
    "\n",
    "print(\"5번만에 랜덤 숫자 맞추기 게임\")\n",
    "\n",
    "try_number = 0 #시도횟수 초기세팅값\n",
    "\n",
    "while True:\n",
    "    \n",
    "    try_number += 1    \n",
    "    max_try_number = 5\n",
    "    try:\n",
    "        print(\"숫자를 입력하세요\")\n",
    "        number = input(\"1부터 100까지 숫자 중 하나를 입력하세요: \")\n",
    "        player_number = int(number)\n",
    "        \n",
    "        if player_number == random_number:\n",
    "            print(f\">> 컴퓨터 숫자 : {random_number} / 플레이어 숫자 : {player_number}\")\n",
    "            print(f\"정답! {try_number}번 만에 컴퓨터의 숫자를 맞추셨습니다!\")\n",
    "            break\n",
    "        elif 0 > player_number > 101:\n",
    "            print(\"범위를 벗어난 숫자입니다. 다시 입력하세요!\")\n",
    "        elif max_try_number == try_number:\n",
    "            print(\"모든 기회를 소진하셨습니다. Game Over\")\n",
    "            break\n",
    "        else:\n",
    "            print(\"땡! 다시 시도하시겠습니까? (Y/N)\")\n",
    "            answer = input(\"다시 시도하려면 Y, 종료하려면 N을 입력하세요: \")\n",
    "            if answer == \"Y\" or \"y\":\n",
    "                print(f\"남은 시도 횟수 : {max_try_number-try_number} 번\")\n",
    "                print(\"Hint: Down\") if player_number > random_number else print(\"Hint: Up\")\n",
    "                continue\n",
    "            else:\n",
    "                print(\"Game Over\")\n",
    "                break\n",
    "    \n",
    "    except ValueError:\n",
    "        print(f\"'{number}'은 숫자가 아닙니다. 다시 입력해주세요\")\n",
    "        continue\n",
    "    \n",
    "    except Exception as e:\n",
    "        print(f\"잘못된 형식입니다. error : {e}\")\n",
    "        continue\n",
    "\n",
    "print(\"게임을 종료합니다\")"
   ]
  }
 ],
 "metadata": {
  "kernelspec": {
   "display_name": ".venv",
   "language": "python",
   "name": "python3"
  },
  "language_info": {
   "codemirror_mode": {
    "name": "ipython",
    "version": 3
   },
   "file_extension": ".py",
   "mimetype": "text/x-python",
   "name": "python",
   "nbconvert_exporter": "python",
   "pygments_lexer": "ipython3",
   "version": "3.12.4"
  }
 },
 "nbformat": 4,
 "nbformat_minor": 2
}
