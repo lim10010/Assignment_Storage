{
 "cells": [
  {
   "cell_type": "code",
   "execution_count": 1,
   "metadata": {},
   "outputs": [
    {
     "name": "stdout",
     "output_type": "stream",
     "text": [
      "숫자를 입력하세요\n",
      "''은 숫자가 아닙니다. 다시 입력해주세요\n",
      "숫자를 입력하세요\n",
      "'안녕'은 숫자가 아닙니다. 다시 입력해주세요\n",
      "숫자를 입력하세요\n",
      "'ㄴ이ㅏ러ㅣ낭'은 숫자가 아닙니다. 다시 입력해주세요\n",
      "숫자를 입력하세요\n",
      "컴퓨터의 숫자와 다릅니다. 다시 시도하세요\n",
      "숫자를 입력하세요\n",
      "컴퓨터의 숫자와 다릅니다. 다시 시도하세요\n",
      "숫자를 입력하세요\n",
      "컴퓨터의 숫자와 다릅니다. 다시 시도하세요\n",
      "숫자를 입력하세요\n",
      "컴퓨터의 숫자와 다릅니다. 다시 시도하세요\n",
      "숫자를 입력하세요\n",
      "컴퓨터의 숫자와 다릅니다. 다시 시도하세요\n",
      "숫자를 입력하세요\n",
      "컴퓨터의 숫자와 다릅니다. 다시 시도하세요\n",
      "숫자를 입력하세요\n",
      "컴퓨터의 숫자와 다릅니다. 다시 시도하세요\n",
      "숫자를 입력하세요\n",
      "컴퓨터의 숫자와 다릅니다. 다시 시도하세요\n",
      "숫자를 입력하세요\n",
      "컴퓨터의 숫자와 다릅니다. 다시 시도하세요\n",
      "숫자를 입력하세요\n",
      "컴퓨터의 숫자와 다릅니다. 다시 시도하세요\n",
      "숫자를 입력하세요\n"
     ]
    }
   ],
   "source": [
    "import random\n",
    "\n",
    "random_number = random.randint(1,10)\n",
    "\n",
    "while True:\n",
    "    print(\"숫자를 입력하세요\")\n",
    "    \n",
    "    try:\n",
    "        number = input()\n",
    "        player_number = int(input())\n",
    "        \n",
    "        if player_number == random_number:\n",
    "            print(f\"컴퓨터 숫자 : {random_number} / 플레이어 숫자 : {player_number}\")\n",
    "            print(f\"컴퓨터의 숫자를 맞추셨습니다! 통과!\")\n",
    "            print(f\"게임종료\")\n",
    "            break\n",
    "        else:\n",
    "            print(\"컴퓨터의 숫자와 다릅니다. 다시 시도하세요\")\n",
    "            continue\n",
    "    \n",
    "    except ValueError:\n",
    "        print(f\"'{number}'은 숫자가 아닙니다. 다시 입력해주세요\")\n",
    "        continue\n",
    "    \n",
    "    except Exception as e:\n",
    "        print(f\"잘못된 형식입니다. error : {e}\")\n",
    "        continue\n",
    "\n",
    "print(\"게임을 종료합니다. 감사합니다!\")"
   ]
  }
 ],
 "metadata": {
  "kernelspec": {
   "display_name": ".venv",
   "language": "python",
   "name": "python3"
  },
  "language_info": {
   "codemirror_mode": {
    "name": "ipython",
    "version": 3
   },
   "file_extension": ".py",
   "mimetype": "text/x-python",
   "name": "python",
   "nbconvert_exporter": "python",
   "pygments_lexer": "ipython3",
   "version": "3.12.4"
  }
 },
 "nbformat": 4,
 "nbformat_minor": 2
}
